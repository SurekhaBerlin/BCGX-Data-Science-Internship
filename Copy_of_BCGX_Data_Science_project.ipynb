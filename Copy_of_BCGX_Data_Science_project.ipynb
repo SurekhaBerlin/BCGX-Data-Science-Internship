{
  "nbformat": 4,
  "nbformat_minor": 0,
  "metadata": {
    "colab": {
      "provenance": [],
      "include_colab_link": true
    },
    "kernelspec": {
      "name": "python3",
      "display_name": "Python 3"
    },
    "language_info": {
      "name": "python"
    }
  },
  "cells": [
    {
      "cell_type": "markdown",
      "metadata": {
        "id": "view-in-github",
        "colab_type": "text"
      },
      "source": [
        "<a href=\"https://colab.research.google.com/github/SurekhaBerlin/BCGX-Data-Science-Internship/blob/main/Copy_of_BCGX_Data_Science_project.ipynb\" target=\"_parent\"><img src=\"https://colab.research.google.com/assets/colab-badge.svg\" alt=\"Open In Colab\"/></a>"
      ]
    },
    {
      "cell_type": "markdown",
      "source": [
        "# EXPLORATORY DATA ANALYSIS & CLEANING"
      ],
      "metadata": {
        "id": "7f8CdGdBG1K0"
      }
    },
    {
      "cell_type": "markdown",
      "source": [
        "## STEP 0: Importing Libraries"
      ],
      "metadata": {
        "id": "mOKBRDJBHA1q"
      }
    },
    {
      "cell_type": "code",
      "execution_count": null,
      "metadata": {
        "id": "dCxEyDTMWKgN"
      },
      "outputs": [],
      "source": []
    },
    {
      "cell_type": "markdown",
      "source": [],
      "metadata": {
        "id": "hahFeVw8G0Tu"
      }
    }
  ]
}